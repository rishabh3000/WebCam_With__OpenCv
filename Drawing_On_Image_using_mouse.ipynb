{
 "cells": [
  {
   "cell_type": "code",
   "execution_count": 3,
   "id": "044eed27",
   "metadata": {},
   "outputs": [],
   "source": [
    "import numpy as np\n",
    "\n",
    "import cv2\n",
    "\n",
    "\n",
    "## Function\n",
    "\n",
    "def draw_circle(event,x,y,flags,param):\n",
    "    if event==cv2.EVENT_LBUTTONDOWN:\n",
    "        cv2.circle(image,(x,y),100,(0,255,0),-1 )\n",
    "    \n",
    "    elif event==cv2.EVENT_RBUTTONDOWN:\n",
    "        cv2.circle(image,(x,y),100,(0,0,255),-1 )\n",
    "    \n",
    "\n",
    "## Connect Function into callbacks\n",
    "\n",
    "cv2.namedWindow(winname='Drwaing')\n",
    "cv2.setMouseCallback('Drwaing',draw_circle)\n",
    "\n",
    "## Display the Image: \n",
    "\n",
    "image=np.zeros((512,512,3))\n",
    "\n",
    "while True:\n",
    "    cv2.imshow('Drwaing',image)\n",
    "    if cv2.waitKey(20) & 0xFF==27:\n",
    "        break\n",
    "        \n",
    "cv2.destroyAllWindows()"
   ]
  },
  {
   "cell_type": "code",
   "execution_count": null,
   "id": "aa8c57ad",
   "metadata": {},
   "outputs": [],
   "source": []
  }
 ],
 "metadata": {
  "kernelspec": {
   "display_name": "Python 3 (ipykernel)",
   "language": "python",
   "name": "python3"
  },
  "language_info": {
   "codemirror_mode": {
    "name": "ipython",
    "version": 3
   },
   "file_extension": ".py",
   "mimetype": "text/x-python",
   "name": "python",
   "nbconvert_exporter": "python",
   "pygments_lexer": "ipython3",
   "version": "3.9.7"
  }
 },
 "nbformat": 4,
 "nbformat_minor": 5
}
