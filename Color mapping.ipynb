{
 "cells": [
  {
   "cell_type": "code",
   "execution_count": 1,
   "id": "3d406fa2",
   "metadata": {},
   "outputs": [],
   "source": [
    "import cv2\n",
    "import numpy as np"
   ]
  },
  {
   "cell_type": "code",
   "execution_count": 2,
   "id": "8ba64ac5",
   "metadata": {},
   "outputs": [],
   "source": [
    "path=r'1.jpg'"
   ]
  },
  {
   "cell_type": "code",
   "execution_count": 3,
   "id": "afe7acbd",
   "metadata": {},
   "outputs": [],
   "source": [
    "img=cv2.imread(path)"
   ]
  },
  {
   "cell_type": "code",
   "execution_count": 4,
   "id": "30f2a924",
   "metadata": {},
   "outputs": [],
   "source": [
    "img=cv2.resize(img,(700,700))\n",
    "cv2.imshow('Original_img',img)\n",
    "cv2.waitKey(0)\n",
    "cv2.destroyAllWindows()"
   ]
  },
  {
   "cell_type": "code",
   "execution_count": 5,
   "id": "1ac1b880",
   "metadata": {},
   "outputs": [],
   "source": [
    "convert=cv2.cvtColor(img,cv2.COLOR_BGR2GRAY)\n",
    "cv2.imshow(\"Gray\",convert)\n",
    "cv2.waitKey(0)\n",
    "cv2.destroyAllWindows()"
   ]
  },
  {
   "cell_type": "code",
   "execution_count": 6,
   "id": "b69ecde6",
   "metadata": {},
   "outputs": [],
   "source": [
    "convert1=cv2.cvtColor(img,cv2.COLOR_BGR2RGB)\n",
    "cv2.imshow('RGB IMAGE',convert1)\n",
    "cv2.waitKey(0)\n",
    "cv2.destroyAllWindows()"
   ]
  },
  {
   "cell_type": "code",
   "execution_count": 7,
   "id": "f59a42b1",
   "metadata": {},
   "outputs": [],
   "source": [
    "convert2=cv2.cvtColor(img,cv2.COLOR_BGR2HSV)\n",
    "cv2.imshow('HSV Image',convert2)\n",
    "cv2.waitKey(0)\n",
    "cv2.destroyAllWindows()"
   ]
  },
  {
   "cell_type": "code",
   "execution_count": null,
   "id": "3f2c63ea",
   "metadata": {},
   "outputs": [],
   "source": []
  }
 ],
 "metadata": {
  "kernelspec": {
   "display_name": "Python 3 (ipykernel)",
   "language": "python",
   "name": "python3"
  },
  "language_info": {
   "codemirror_mode": {
    "name": "ipython",
    "version": 3
   },
   "file_extension": ".py",
   "mimetype": "text/x-python",
   "name": "python",
   "nbconvert_exporter": "python",
   "pygments_lexer": "ipython3",
   "version": "3.9.7"
  }
 },
 "nbformat": 4,
 "nbformat_minor": 5
}
