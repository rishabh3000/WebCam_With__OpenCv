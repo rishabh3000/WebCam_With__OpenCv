{
 "cells": [
  {
   "cell_type": "code",
   "execution_count": 1,
   "id": "db7f4b9c",
   "metadata": {},
   "outputs": [],
   "source": [
    "import cv2\n",
    "import numpy as np"
   ]
  },
  {
   "cell_type": "code",
   "execution_count": 6,
   "id": "3098ca01",
   "metadata": {
    "scrolled": true
   },
   "outputs": [],
   "source": [
    "## Variable\n",
    "draw=False \n",
    "rx=-1\n",
    "ry=-1\n",
    "\n",
    "## Function \n",
    "def draw_rectangle(event,x,y,flags,params):\n",
    "    global draw,rx,ry\n",
    "    \n",
    "    if event==cv2.EVENT_LBUTTONDOWN:\n",
    "        draw= True\n",
    "        rx,ry=x,y\n",
    "        \n",
    "    elif event==cv2.EVENT_MOUSEMOVE:\n",
    "        if draw ==True:\n",
    "            cv2.rectangle(image,(rx,ry),(x,y),(255,0,0),-1)\n",
    "            \n",
    "    elif event==cv2.EVENT_LBUTTONUP:\n",
    "        draw=False\n",
    "\n",
    "\n",
    "## Connect Rectangle Function Into Image Callback\n",
    "\n",
    "cv2.namedWindow(winname='Rectangle')\n",
    "cv2.setMouseCallback('Rectangle',draw_rectangle)\n",
    "\n",
    "## Show the Image\n",
    "\n",
    "image=np.zeros((512,512,3))\n",
    "\n",
    "while True:\n",
    "    cv2.imshow('Rectangle',image) \n",
    "    \n",
    "    if cv2.waitKey(10) & 0xFF ==27:\n",
    "        break\n",
    "        \n",
    "cv2.destroyAllWindows()"
   ]
  },
  {
   "cell_type": "code",
   "execution_count": null,
   "id": "cd970009",
   "metadata": {},
   "outputs": [],
   "source": []
  }
 ],
 "metadata": {
  "kernelspec": {
   "display_name": "Python 3 (ipykernel)",
   "language": "python",
   "name": "python3"
  },
  "language_info": {
   "codemirror_mode": {
    "name": "ipython",
    "version": 3
   },
   "file_extension": ".py",
   "mimetype": "text/x-python",
   "name": "python",
   "nbconvert_exporter": "python",
   "pygments_lexer": "ipython3",
   "version": "3.9.7"
  }
 },
 "nbformat": 4,
 "nbformat_minor": 5
}
