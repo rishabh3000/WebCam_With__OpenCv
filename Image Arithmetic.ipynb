{
 "cells": [
  {
   "cell_type": "code",
   "execution_count": 1,
   "id": "1899df5f",
   "metadata": {},
   "outputs": [],
   "source": [
    "import cv2\n",
    "import numpy as np"
   ]
  },
  {
   "cell_type": "code",
   "execution_count": 2,
   "id": "0f69cb03",
   "metadata": {},
   "outputs": [],
   "source": [
    "Path1=r'hall.jpg' \n",
    "Path2=r'Band.jpg'"
   ]
  },
  {
   "cell_type": "code",
   "execution_count": 3,
   "id": "e548e54e",
   "metadata": {},
   "outputs": [],
   "source": [
    "img1=cv2.imread(Path1)\n",
    "img2=cv2.imread(Path2)\n",
    "img1=cv2.resize(img1,(700,700))\n",
    "img2=cv2.resize(img2,(700,700))\n",
    "img=np.concatenate((img1,img2),axis=1)\n",
    "cv2.imshow('Image',img)\n",
    "cv2.waitKey(0)\n",
    "cv2.destroyAllWindows()"
   ]
  },
  {
   "cell_type": "code",
   "execution_count": 4,
   "id": "aa1d683b",
   "metadata": {},
   "outputs": [
    {
     "name": "stdout",
     "output_type": "stream",
     "text": [
      "(700, 700, 3)\n"
     ]
    },
    {
     "data": {
      "text/plain": [
       "(700, 700, 3)"
      ]
     },
     "execution_count": 4,
     "metadata": {},
     "output_type": "execute_result"
    }
   ],
   "source": [
    "print(img1.shape)\n",
    "img2.shape"
   ]
  },
  {
   "cell_type": "markdown",
   "id": "02e42643",
   "metadata": {},
   "source": [
    "## Addition"
   ]
  },
  {
   "cell_type": "code",
   "execution_count": 5,
   "id": "907159a7",
   "metadata": {},
   "outputs": [],
   "source": [
    "imgA=img1+img2\n",
    "cv2.imshow('img1 + img2',imgA)\n",
    "cv2.waitKey(0)\n",
    "cv2.destroyAllWindows()"
   ]
  },
  {
   "cell_type": "code",
   "execution_count": 6,
   "id": "853fa715",
   "metadata": {},
   "outputs": [],
   "source": [
    "img1=cv2.cvtColor(img1,cv2.COLOR_BGR2GRAY)\n",
    "img2=cv2.cvtColor(img2,cv2.COLOR_BGR2GRAY)\n",
    "k,img=cv2.threshold(img2,150,255,cv2.THRESH_BINARY)"
   ]
  },
  {
   "cell_type": "code",
   "execution_count": 7,
   "id": "8b3bfd87",
   "metadata": {},
   "outputs": [],
   "source": [
    "img=np.concatenate((img1,img2),axis=1)\n",
    "cv2.imshow('Image',img)\n",
    "cv2.waitKey(0)\n",
    "cv2.destroyAllWindows()"
   ]
  },
  {
   "cell_type": "markdown",
   "id": "a709d044",
   "metadata": {},
   "source": [
    "## Subtraction"
   ]
  },
  {
   "cell_type": "code",
   "execution_count": 8,
   "id": "8f4255eb",
   "metadata": {},
   "outputs": [],
   "source": [
    "Path3=r'bunny1.jpg'\n",
    "Path4=r'bunny2.jpg'"
   ]
  },
  {
   "cell_type": "code",
   "execution_count": 9,
   "id": "b52e2611",
   "metadata": {},
   "outputs": [],
   "source": [
    "img3=cv2.imread(Path3)\n",
    "img4=cv2.imread(Path4)"
   ]
  },
  {
   "cell_type": "code",
   "execution_count": 10,
   "id": "f5c37f35",
   "metadata": {},
   "outputs": [],
   "source": [
    "img=np.concatenate((img3,img4),axis=0)"
   ]
  },
  {
   "cell_type": "code",
   "execution_count": 11,
   "id": "d6fdb89b",
   "metadata": {},
   "outputs": [],
   "source": [
    "cv2.imshow('Image',img)\n",
    "cv2.waitKey(0)\n",
    "cv2.destroyAllWindows()"
   ]
  },
  {
   "cell_type": "code",
   "execution_count": 12,
   "id": "54c7caba",
   "metadata": {},
   "outputs": [],
   "source": [
    "imgs=cv2.subtract(img3,img4)\n",
    "cv2.imshow('img3-img4',imgs)\n",
    "cv2.waitKey(0)\n",
    "cv2.destroyAllWindows()"
   ]
  },
  {
   "cell_type": "markdown",
   "id": "8a65d973",
   "metadata": {},
   "source": [
    "### Create out own Addition  and Subtraction Functions"
   ]
  },
  {
   "cell_type": "code",
   "execution_count": 15,
   "id": "2a3dbb22",
   "metadata": {},
   "outputs": [],
   "source": [
    "def add(img1,img2):\n",
    "    r,c=img1.shape\n",
    "    for i in range(0,r,1):\n",
    "        for j in range(0,c,1):\n",
    "            x=(int(img1[i][j])+int(img2[i][j]))\n",
    "            if x>255:\n",
    "                x=255\n",
    "            imgA[i][j]=x\n",
    "        return imgA"
   ]
  },
  {
   "cell_type": "code",
   "execution_count": 16,
   "id": "129fc3f6",
   "metadata": {},
   "outputs": [],
   "source": [
    "imgA=add(img1,img2) \n",
    "cv2.imshow('Own Fn',imgA)\n",
    "cv2.waitKey(0)\n",
    "cv2.destroyAllWindows()"
   ]
  },
  {
   "cell_type": "code",
   "execution_count": null,
   "id": "df1394c9",
   "metadata": {},
   "outputs": [],
   "source": []
  }
 ],
 "metadata": {
  "kernelspec": {
   "display_name": "Python 3 (ipykernel)",
   "language": "python",
   "name": "python3"
  },
  "language_info": {
   "codemirror_mode": {
    "name": "ipython",
    "version": 3
   },
   "file_extension": ".py",
   "mimetype": "text/x-python",
   "name": "python",
   "nbconvert_exporter": "python",
   "pygments_lexer": "ipython3",
   "version": "3.9.7"
  }
 },
 "nbformat": 4,
 "nbformat_minor": 5
}
